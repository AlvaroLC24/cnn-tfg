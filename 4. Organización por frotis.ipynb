{
 "cells": [
  {
   "cell_type": "markdown",
   "metadata": {},
   "source": [
    "# Recuento de esquistocitos\n",
    "\n",
    "### Organización"
   ]
  },
  {
   "cell_type": "markdown",
   "metadata": {},
   "source": [
    "Para el recuento de esquistocitos se crean dos notebooks:\n",
    "- Organización\n",
    "- Recuento\n",
    "\n",
    "El objetivo de este notebook es la organización de directorios y la distribución de imágenes por frotis sanguíneo."
   ]
  },
  {
   "cell_type": "markdown",
   "metadata": {},
   "source": [
    "Primero se cargan las librerías necesarias."
   ]
  },
  {
   "cell_type": "code",
   "execution_count": 1,
   "metadata": {},
   "outputs": [],
   "source": [
    "from tensorflow.keras.preprocessing import image\n",
    "from tensorflow.keras.preprocessing.image import ImageDataGenerator\n",
    "from tensorflow.keras.callbacks import TensorBoard, ModelCheckpoint\n",
    "from tensorflow.keras.models import Model, model_from_json\n",
    "from tensorflow.keras import backend\n",
    "\n",
    "import numpy as np\n",
    "from numpy.random import seed\n",
    "import matplotlib.pyplot as plt\n",
    "import tensorflow as tf\n",
    "import time\n",
    "import os\n",
    "import shutil"
   ]
  },
  {
   "cell_type": "markdown",
   "metadata": {},
   "source": [
    "Se llama al directorio que contiene las imágenes originales y se crea uno nuevo con sus dos dubdirectorios para copiarlas. El objetivo de esto es realizar el escalado en este nuevo directorio, esta vez, con todas las imágenes, para no modificar el directorio original por si surge algún problema y se requieren de las imágenes originales."
   ]
  },
  {
   "cell_type": "code",
   "execution_count": 28,
   "metadata": {},
   "outputs": [],
   "source": [
    "original_dataset_dir ='RBC_recortados'\n",
    "\n",
    "base_dir = 'RBC_recort_reesc2'\n",
    "os.mkdir(base_dir)"
   ]
  },
  {
   "cell_type": "code",
   "execution_count": 29,
   "metadata": {},
   "outputs": [],
   "source": [
    "esq_dir = os.path.join(base_dir, 'ESQUISTOS')\n",
    "os.mkdir(esq_dir)\n",
    "noesq_dir = os.path.join(base_dir, 'NORM')\n",
    "os.mkdir(noesq_dir)"
   ]
  },
  {
   "cell_type": "code",
   "execution_count": 30,
   "metadata": {},
   "outputs": [
    {
     "name": "stdout",
     "output_type": "stream",
     "text": [
      "1737 imágenes de esquistocitos copiadas\n"
     ]
    }
   ],
   "source": [
    "# Copying esquistocitos pictures to directory\n",
    "original_dataset_dir_esq = 'RBC_recortados/ESQUISTOS'\n",
    "pict_dir_esq = len(os.listdir(original_dataset_dir_esq))\n",
    "\n",
    "esq_copy = []\n",
    "\n",
    "for i in range (pict_dir_esq):\n",
    "        source = os.path.join(original_dataset_dir_esq, (os.listdir(original_dataset_dir_esq))[i])\n",
    "        destination = os.path.join(esq_dir, (os.listdir(original_dataset_dir_esq))[i])\n",
    "        shutil.copyfile(source, destination)\n",
    "        \n",
    "        esq_copy.append(i)\n",
    "                \n",
    "print ('{} imágenes de esquistocitos copiadas'.format(len(esq_copy)))"
   ]
  },
  {
   "cell_type": "code",
   "execution_count": 31,
   "metadata": {},
   "outputs": [
    {
     "name": "stdout",
     "output_type": "stream",
     "text": [
      "10119 imágenes de no esquistocitos copiadas\n"
     ]
    }
   ],
   "source": [
    "# Copying no esquistocitos pictures in directory\n",
    "original_dataset_dir_noesq = 'RBC_recortados/NORM'\n",
    "pict_dir_noesq = len(os.listdir(original_dataset_dir_noesq))\n",
    "\n",
    "noesq_copy = []\n",
    "\n",
    "for i in range (pict_dir_noesq):\n",
    "        source = os.path.join(original_dataset_dir_noesq, (os.listdir(original_dataset_dir_noesq))[i])\n",
    "        destination = os.path.join(noesq_dir, (os.listdir(original_dataset_dir_noesq))[i])\n",
    "        shutil.copyfile(source, destination)\n",
    "        \n",
    "        noesq_copy.append(i)\n",
    "        \n",
    "print ('{} imágenes de no esquistocitos copiadas'.format(len(noesq_copy)))"
   ]
  },
  {
   "cell_type": "markdown",
   "metadata": {},
   "source": [
    "Después de copiar todas las imágenes, se reescalan."
   ]
  },
  {
   "cell_type": "code",
   "execution_count": 32,
   "metadata": {},
   "outputs": [],
   "source": [
    "from PIL import Image\n",
    "from skimage.transform import rescale, resize\n",
    "\n",
    "# Resized of esquistocitos pictures\n",
    "esq_dir_resc = 'RBC_recort_reesc2/ESQUISTOS'\n",
    "\n",
    "for i in os.listdir(esq_dir_resc):\n",
    "    path_img = esq_dir_resc+\"/\"+i\n",
    "    img = Image.open(path_img)\n",
    "    img = img.resize((220,220))\n",
    "    img.save(path_img)"
   ]
  },
  {
   "cell_type": "code",
   "execution_count": 33,
   "metadata": {},
   "outputs": [],
   "source": [
    "# Resized of no esquistocitos pictures\n",
    "noesq_dir_resc = 'RBC_recort_reesc2/NORM'\n",
    "\n",
    "for i in os.listdir(noesq_dir_resc):\n",
    "    path_img = noesq_dir_resc+\"/\"+i\n",
    "    img = Image.open(path_img)\n",
    "    img = img.resize((220,220))\n",
    "    img.save(path_img)"
   ]
  },
  {
   "cell_type": "markdown",
   "metadata": {},
   "source": [
    "A continuación se crea el directorio que contendrá 11 subdirectorios correspondientes a cada frotis. En cada uno de ellos dos carpetas: una para esquistocitos y otra para no esquistocitos."
   ]
  },
  {
   "cell_type": "code",
   "execution_count": 34,
   "metadata": {},
   "outputs": [],
   "source": [
    "frotis_dir = 'RBC_por_frotis'\n",
    "os.mkdir(frotis_dir)"
   ]
  },
  {
   "cell_type": "code",
   "execution_count": 35,
   "metadata": {},
   "outputs": [],
   "source": [
    "frotis1dir = os.path.join(frotis_dir, 'frotis1')\n",
    "os.mkdir(frotis1dir)\n",
    "frotis1dir_esq = os.path.join(frotis1dir, '1_esquistocitos')\n",
    "os.mkdir(frotis1dir_esq)\n",
    "frotis1dir_noesq = os.path.join(frotis1dir, '0_no_esquistocitos')\n",
    "os.mkdir(frotis1dir_noesq)\n",
    "\n",
    "frotis2dir = os.path.join(frotis_dir, 'frotis2')\n",
    "os.mkdir(frotis2dir)\n",
    "frotis2dir_esq = os.path.join(frotis2dir, '1_esquistocitos')\n",
    "os.mkdir(frotis2dir_esq)\n",
    "frotis2dir_noesq = os.path.join(frotis2dir, '0_no_esquistocitos')\n",
    "os.mkdir(frotis2dir_noesq)\n",
    "\n",
    "frotis3dir = os.path.join(frotis_dir, 'frotis3')\n",
    "os.mkdir(frotis3dir)\n",
    "frotis3dir_esq = os.path.join(frotis3dir, '1_esquistocitos')\n",
    "os.mkdir(frotis3dir_esq)\n",
    "frotis3dir_noesq = os.path.join(frotis3dir, '0_no_esquistocitos')\n",
    "os.mkdir(frotis3dir_noesq)\n",
    "\n",
    "frotis4dir = os.path.join(frotis_dir, 'frotis4')\n",
    "os.mkdir(frotis4dir)\n",
    "frotis4dir_esq = os.path.join(frotis4dir, '1_esquistocitos')\n",
    "os.mkdir(frotis4dir_esq)\n",
    "frotis4dir_noesq = os.path.join(frotis4dir, '0_no_esquistocitos')\n",
    "os.mkdir(frotis4dir_noesq)\n",
    "\n",
    "frotis5dir = os.path.join(frotis_dir, 'frotis5')\n",
    "os.mkdir(frotis5dir)\n",
    "frotis5dir_esq = os.path.join(frotis5dir, '1_esquistocitos')\n",
    "os.mkdir(frotis5dir_esq)\n",
    "frotis5dir_noesq = os.path.join(frotis5dir, '0_no_esquistocitos')\n",
    "os.mkdir(frotis5dir_noesq)\n",
    "\n",
    "frotis6dir = os.path.join(frotis_dir, 'frotis6')\n",
    "os.mkdir(frotis6dir)\n",
    "frotis6dir_esq = os.path.join(frotis6dir, '1_esquistocitos')\n",
    "os.mkdir(frotis6dir_esq)\n",
    "frotis6dir_noesq = os.path.join(frotis6dir, '0_no_esquistocitos')\n",
    "os.mkdir(frotis6dir_noesq)\n",
    "\n",
    "frotis7dir = os.path.join(frotis_dir, 'frotis7')\n",
    "os.mkdir(frotis7dir)\n",
    "frotis7dir_esq = os.path.join(frotis7dir, '1_esquistocitos')\n",
    "os.mkdir(frotis7dir_esq)\n",
    "frotis7dir_noesq = os.path.join(frotis7dir, '0_no_esquistocitos')\n",
    "os.mkdir(frotis7dir_noesq)\n",
    "\n",
    "frotis8dir = os.path.join(frotis_dir, 'frotis8')\n",
    "os.mkdir(frotis8dir)\n",
    "frotis8dir_esq = os.path.join(frotis8dir, '1_esquistocitos')\n",
    "os.mkdir(frotis8dir_esq)\n",
    "frotis8dir_noesq = os.path.join(frotis8dir, '0_no_esquistocitos')\n",
    "os.mkdir(frotis8dir_noesq)\n",
    "\n",
    "frotis9dir = os.path.join(frotis_dir, 'frotis9')\n",
    "os.mkdir(frotis9dir)\n",
    "frotis9dir_esq = os.path.join(frotis9dir, '1_esquistocitos')\n",
    "os.mkdir(frotis9dir_esq)\n",
    "frotis9dir_noesq = os.path.join(frotis9dir, '0_no_esquistocitos')\n",
    "os.mkdir(frotis9dir_noesq)\n",
    "\n",
    "frotis10dir = os.path.join(frotis_dir, 'frotis10')\n",
    "os.mkdir(frotis10dir)\n",
    "frotis10dir_esq = os.path.join(frotis10dir, '1_esquistocitos')\n",
    "os.mkdir(frotis10dir_esq)\n",
    "frotis10dir_noesq = os.path.join(frotis10dir, '0_no_esquistocitos')\n",
    "os.mkdir(frotis10dir_noesq)\n",
    "\n",
    "frotis11dir = os.path.join(frotis_dir, 'frotis11')\n",
    "os.mkdir(frotis11dir)\n",
    "frotis11dir_esq = os.path.join(frotis11dir, '1_esquistocitos')\n",
    "os.mkdir(frotis11dir_esq)\n",
    "frotis11dir_noesq = os.path.join(frotis11dir, '0_no_esquistocitos')\n",
    "os.mkdir(frotis11dir_noesq)\n"
   ]
  },
  {
   "cell_type": "markdown",
   "metadata": {},
   "source": [
    "El nombre de todas las imágenes está compuesto por varios números y símbolos. El primer conjunto de números antes de la primera barra baja es el mismo para aquellas del mismo frotis. Por tanto, se usa este valor para distribuir las imágenes a cada frotis, primero las de esquistocitos y luego las del otro grupo."
   ]
  },
  {
   "cell_type": "code",
   "execution_count": 37,
   "metadata": {},
   "outputs": [
    {
     "name": "stdout",
     "output_type": "stream",
     "text": [
      "Hay 140 imágenes de esquistocitos en el frotis 1\n",
      "Hay 101 imágenes de esquistocitos en el frotis 2\n",
      "Hay 28 imágenes de esquistocitos en el frotis 3\n",
      "Hay 380 imágenes de esquistocitos en el frotis 4\n",
      "Hay 281 imágenes de esquistocitos en el frotis 5\n",
      "Hay 208 imágenes de esquistocitos en el frotis 6\n",
      "Hay 209 imágenes de esquistocitos en el frotis 7\n",
      "Hay 73 imágenes de esquistocitos en el frotis 8\n",
      "Hay 91 imágenes de esquistocitos en el frotis 9\n",
      "Hay 144 imágenes de esquistocitos en el frotis 10\n",
      "Hay 82 imágenes de esquistocitos en el frotis 11\n"
     ]
    }
   ],
   "source": [
    "mypath = 'RBC_recort_reesc2/ESQUISTOS'\n",
    "\n",
    "pict_res_esq = len(os.listdir(mypath))\n",
    "onlyfiles = [f for f in os.listdir(mypath)]\n",
    "\n",
    "\n",
    "for i, j in zip(range(pict_res_esq), onlyfiles):\n",
    "    filename = j\n",
    "    separation = filename.split('_')\n",
    "    first_sep = separation[0]\n",
    "    if first_sep == '162524799':\n",
    "        source = os.path.join(esq_dir_resc, (os.listdir(esq_dir_resc))[i])\n",
    "        destination = os.path.join(frotis1dir_esq, (os.listdir(esq_dir_resc))[i])\n",
    "        shutil.copyfile(source, destination)\n",
    "    \n",
    "    if first_sep == '172134479':\n",
    "        source = os.path.join(esq_dir_resc, (os.listdir(esq_dir_resc))[i])\n",
    "        destination = os.path.join(frotis2dir_esq, (os.listdir(esq_dir_resc))[i])\n",
    "        shutil.copyfile(source, destination)\n",
    "    \n",
    "    if first_sep == '172701481':\n",
    "        source = os.path.join(esq_dir_resc, (os.listdir(esq_dir_resc))[i])\n",
    "        destination = os.path.join(frotis3dir_esq, (os.listdir(esq_dir_resc))[i])\n",
    "        shutil.copyfile(source, destination)\n",
    "\n",
    "    if first_sep == '172924803':\n",
    "        source = os.path.join(esq_dir_resc, (os.listdir(esq_dir_resc))[i])\n",
    "        destination = os.path.join(frotis4dir_esq, (os.listdir(esq_dir_resc))[i])\n",
    "        shutil.copyfile(source, destination)\n",
    "\n",
    "    if first_sep == '172929489':\n",
    "        source = os.path.join(esq_dir_resc, (os.listdir(esq_dir_resc))[i])\n",
    "        destination = os.path.join(frotis5dir_esq, (os.listdir(esq_dir_resc))[i])\n",
    "        shutil.copyfile(source, destination)\n",
    "\n",
    "    if first_sep == '172939049':\n",
    "        source = os.path.join(esq_dir_resc, (os.listdir(esq_dir_resc))[i])\n",
    "        destination = os.path.join(frotis6dir_esq, (os.listdir(esq_dir_resc))[i])\n",
    "        shutil.copyfile(source, destination)\n",
    "\n",
    "    if first_sep == '172939618':\n",
    "        source = os.path.join(esq_dir_resc, (os.listdir(esq_dir_resc))[i])\n",
    "        destination = os.path.join(frotis7dir_esq, (os.listdir(esq_dir_resc))[i])\n",
    "        shutil.copyfile(source, destination)\n",
    "\n",
    "    if first_sep == '172961561':\n",
    "        source = os.path.join(esq_dir_resc, (os.listdir(esq_dir_resc))[i])\n",
    "        destination = os.path.join(frotis8dir_esq, (os.listdir(esq_dir_resc))[i])\n",
    "        shutil.copyfile(source, destination)\n",
    "\n",
    "    if first_sep == '173384507':\n",
    "        source = os.path.join(esq_dir_resc, (os.listdir(esq_dir_resc))[i])\n",
    "        destination = os.path.join(frotis9dir_esq, (os.listdir(esq_dir_resc))[i])\n",
    "        shutil.copyfile(source, destination)\n",
    "\n",
    "    if first_sep == '173385597':\n",
    "        source = os.path.join(esq_dir_resc, (os.listdir(esq_dir_resc))[i])\n",
    "        destination = os.path.join(frotis10dir_esq, (os.listdir(esq_dir_resc))[i])\n",
    "        shutil.copyfile(source, destination)\n",
    "\n",
    "    if first_sep == '182986014':\n",
    "        source = os.path.join(esq_dir_resc, (os.listdir(esq_dir_resc))[i])\n",
    "        destination = os.path.join(frotis11dir_esq, (os.listdir(esq_dir_resc))[i])\n",
    "        shutil.copyfile(source, destination)\n",
    "\n",
    "print('Hay {} imágenes de esquistocitos en el frotis 1'.format(len(os.listdir(frotis1dir_esq))))\n",
    "print('Hay {} imágenes de esquistocitos en el frotis 2'.format(len(os.listdir(frotis2dir_esq))))\n",
    "print('Hay {} imágenes de esquistocitos en el frotis 3'.format(len(os.listdir(frotis3dir_esq))))\n",
    "print('Hay {} imágenes de esquistocitos en el frotis 4'.format(len(os.listdir(frotis4dir_esq))))\n",
    "print('Hay {} imágenes de esquistocitos en el frotis 5'.format(len(os.listdir(frotis5dir_esq))))\n",
    "print('Hay {} imágenes de esquistocitos en el frotis 6'.format(len(os.listdir(frotis6dir_esq))))\n",
    "print('Hay {} imágenes de esquistocitos en el frotis 7'.format(len(os.listdir(frotis7dir_esq))))\n",
    "print('Hay {} imágenes de esquistocitos en el frotis 8'.format(len(os.listdir(frotis8dir_esq))))\n",
    "print('Hay {} imágenes de esquistocitos en el frotis 9'.format(len(os.listdir(frotis9dir_esq))))\n",
    "print('Hay {} imágenes de esquistocitos en el frotis 10'.format(len(os.listdir(frotis10dir_esq))))\n",
    "print('Hay {} imágenes de esquistocitos en el frotis 11'.format(len(os.listdir(frotis11dir_esq))))"
   ]
  },
  {
   "cell_type": "code",
   "execution_count": 38,
   "metadata": {},
   "outputs": [
    {
     "name": "stdout",
     "output_type": "stream",
     "text": [
      "Hay 1589 imágenes de no esquistocitos en el frotis 1\n",
      "Hay 765 imágenes de no esquistocitos en el frotis 2\n",
      "Hay 423 imágenes de no esquistocitos en el frotis 3\n",
      "Hay 1091 imágenes de no esquistocitos en el frotis 4\n",
      "Hay 789 imágenes de no esquistocitos en el frotis 5\n",
      "Hay 845 imágenes de no esquistocitos en el frotis 6\n",
      "Hay 1315 imágenes de no esquistocitos en el frotis 7\n",
      "Hay 727 imágenes de no esquistocitos en el frotis 8\n",
      "Hay 511 imágenes de no esquistocitos en el frotis 9\n",
      "Hay 1109 imágenes de no esquistocitos en el frotis 10\n",
      "Hay 955 imágenes de no esquistocitos en el frotis 11\n"
     ]
    }
   ],
   "source": [
    "mypath = 'RBC_recort_reesc2/NORM'\n",
    "\n",
    "pict_res_noesq = len(os.listdir(mypath))\n",
    "onlyfiles = [f for f in os.listdir(mypath)]\n",
    "\n",
    "\n",
    "for i, j in zip(range(pict_res_noesq), onlyfiles):\n",
    "    filename = j\n",
    "    separation = filename.split('_')\n",
    "    first_sep = separation[0]\n",
    "    if first_sep == '162524799':\n",
    "        source = os.path.join(noesq_dir_resc, (os.listdir(noesq_dir_resc))[i])\n",
    "        destination = os.path.join(frotis1dir_noesq, (os.listdir(noesq_dir_resc))[i])\n",
    "        shutil.copyfile(source, destination)\n",
    "    \n",
    "    if first_sep == '172134479':\n",
    "        source = os.path.join(noesq_dir_resc, (os.listdir(noesq_dir_resc))[i])\n",
    "        destination = os.path.join(frotis2dir_noesq, (os.listdir(noesq_dir_resc))[i])\n",
    "        shutil.copyfile(source, destination)\n",
    "    \n",
    "    if first_sep == '172701481':\n",
    "        source = os.path.join(noesq_dir_resc, (os.listdir(noesq_dir_resc))[i])\n",
    "        destination = os.path.join(frotis3dir_noesq, (os.listdir(noesq_dir_resc))[i])\n",
    "        shutil.copyfile(source, destination)\n",
    "\n",
    "    if first_sep == '172924803':\n",
    "        source = os.path.join(noesq_dir_resc, (os.listdir(noesq_dir_resc))[i])\n",
    "        destination = os.path.join(frotis4dir_noesq, (os.listdir(noesq_dir_resc))[i])\n",
    "        shutil.copyfile(source, destination)\n",
    "\n",
    "    if first_sep == '172929489':\n",
    "        source = os.path.join(noesq_dir_resc, (os.listdir(noesq_dir_resc))[i])\n",
    "        destination = os.path.join(frotis5dir_noesq, (os.listdir(noesq_dir_resc))[i])\n",
    "        shutil.copyfile(source, destination)\n",
    "\n",
    "    if first_sep == '172939049':\n",
    "        source = os.path.join(noesq_dir_resc, (os.listdir(noesq_dir_resc))[i])\n",
    "        destination = os.path.join(frotis6dir_noesq, (os.listdir(noesq_dir_resc))[i])\n",
    "        shutil.copyfile(source, destination)\n",
    "\n",
    "    if first_sep == '172939618':\n",
    "        source = os.path.join(noesq_dir_resc, (os.listdir(noesq_dir_resc))[i])\n",
    "        destination = os.path.join(frotis7dir_noesq, (os.listdir(noesq_dir_resc))[i])\n",
    "        shutil.copyfile(source, destination)\n",
    "\n",
    "    if first_sep == '172961561':\n",
    "        source = os.path.join(noesq_dir_resc, (os.listdir(noesq_dir_resc))[i])\n",
    "        destination = os.path.join(frotis8dir_noesq, (os.listdir(noesq_dir_resc))[i])\n",
    "        shutil.copyfile(source, destination)\n",
    "\n",
    "    if first_sep == '173384507':\n",
    "        source = os.path.join(noesq_dir_resc, (os.listdir(noesq_dir_resc))[i])\n",
    "        destination = os.path.join(frotis9dir_noesq, (os.listdir(noesq_dir_resc))[i])\n",
    "        shutil.copyfile(source, destination)\n",
    "\n",
    "    if first_sep == '173385597':\n",
    "        source = os.path.join(noesq_dir_resc, (os.listdir(noesq_dir_resc))[i])\n",
    "        destination = os.path.join(frotis10dir_noesq, (os.listdir(noesq_dir_resc))[i])\n",
    "        shutil.copyfile(source, destination)\n",
    "\n",
    "    if first_sep == '182986014':\n",
    "        source = os.path.join(noesq_dir_resc, (os.listdir(noesq_dir_resc))[i])\n",
    "        destination = os.path.join(frotis11dir_noesq, (os.listdir(noesq_dir_resc))[i])\n",
    "        shutil.copyfile(source, destination)\n",
    "\n",
    "print('Hay {} imágenes de no esquistocitos en el frotis 1'.format(len(os.listdir(frotis1dir_noesq))))\n",
    "print('Hay {} imágenes de no esquistocitos en el frotis 2'.format(len(os.listdir(frotis2dir_noesq))))\n",
    "print('Hay {} imágenes de no esquistocitos en el frotis 3'.format(len(os.listdir(frotis3dir_noesq))))\n",
    "print('Hay {} imágenes de no esquistocitos en el frotis 4'.format(len(os.listdir(frotis4dir_noesq))))\n",
    "print('Hay {} imágenes de no esquistocitos en el frotis 5'.format(len(os.listdir(frotis5dir_noesq))))\n",
    "print('Hay {} imágenes de no esquistocitos en el frotis 6'.format(len(os.listdir(frotis6dir_noesq))))\n",
    "print('Hay {} imágenes de no esquistocitos en el frotis 7'.format(len(os.listdir(frotis7dir_noesq))))\n",
    "print('Hay {} imágenes de no esquistocitos en el frotis 8'.format(len(os.listdir(frotis8dir_noesq))))\n",
    "print('Hay {} imágenes de no esquistocitos en el frotis 9'.format(len(os.listdir(frotis9dir_noesq))))\n",
    "print('Hay {} imágenes de no esquistocitos en el frotis 10'.format(len(os.listdir(frotis10dir_noesq))))\n",
    "print('Hay {} imágenes de no esquistocitos en el frotis 11'.format(len(os.listdir(frotis11dir_noesq))))"
   ]
  },
  {
   "cell_type": "markdown",
   "metadata": {},
   "source": [
    "El número de imágenes por frotis es variable. En el siguiente notebook se usarán para realizar el recuento de esquistocitos."
   ]
  },
  {
   "cell_type": "code",
   "execution_count": null,
   "metadata": {},
   "outputs": [],
   "source": []
  }
 ],
 "metadata": {
  "kernelspec": {
   "display_name": "Python 3",
   "language": "python",
   "name": "python3"
  },
  "language_info": {
   "codemirror_mode": {
    "name": "ipython",
    "version": 3
   },
   "file_extension": ".py",
   "mimetype": "text/x-python",
   "name": "python",
   "nbconvert_exporter": "python",
   "pygments_lexer": "ipython3",
   "version": "3.6.9"
  }
 },
 "nbformat": 4,
 "nbformat_minor": 2
}

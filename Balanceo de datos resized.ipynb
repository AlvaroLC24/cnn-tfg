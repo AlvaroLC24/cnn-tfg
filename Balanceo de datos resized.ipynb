{
 "cells": [
  {
   "cell_type": "markdown",
   "metadata": {},
   "source": [
    "# CNN desde cero\n",
    "### Balanceo de los datos"
   ]
  },
  {
   "cell_type": "markdown",
   "metadata": {},
   "source": [
    "El segundo notebook tiene como objetivo hacer un balanceo de datos mediante el data augmentation. El aumento de imágenes se realizará para los esquistocitos incorporados en el directorio de entrenamiento. De esta manera el número de imágenes de igualará y se podrá trabajar con clases equitativas."
   ]
  },
  {
   "cell_type": "markdown",
   "metadata": {},
   "source": [
    "Las imágenes aumentadas se copiarán en un nuevo directorio \"preview\" y no directamente en la carpeta de esquistocitos. El motivo es para tener estas nuevas imágenes separadas por si se necesitan en algún momento y no integrarlas directamente con las demás."
   ]
  },
  {
   "cell_type": "code",
   "execution_count": 2,
   "metadata": {},
   "outputs": [],
   "source": [
    "# Balanceo de imágenes rescaladas\n",
    "# Solo es necesario aumentar 2200 imágenes de esquistocitos en training\n",
    "from keras.preprocessing.image import ImageDataGenerator, array_to_img, img_to_array, load_img\n",
    "import os\n",
    "import shutil\n",
    "\n",
    "dir_preview = 'preview'\n",
    "os.mkdir(dir_preview)"
   ]
  },
  {
   "cell_type": "markdown",
   "metadata": {},
   "source": [
    "Se realiza el aumento de las imágenes reescaladas con ImageDataGenerator de Keras, comanda que realiza varias transformaciones a las imágenes. "
   ]
  },
  {
   "cell_type": "code",
   "execution_count": 94,
   "metadata": {},
   "outputs": [],
   "source": [
    "import matplotlib.pyplot as plt\n",
    "from keras.preprocessing import image\n",
    "\n",
    "datagen1 = ImageDataGenerator(\n",
    "    rotation_range=60,\n",
    "    vertical_flip=True,\n",
    "    width_shift_range=0.2)\n",
    "\n",
    "mypath = 'dataset_resized/train/1_esquistocitos'\n",
    "\n",
    "onlyfiles = [f for f in os.listdir(mypath)]\n",
    "\n",
    "nfiles = 3000-837 #2163 imágenes para augmentar\n",
    "n = 0\n",
    "\n",
    "for x in onlyfiles:\n",
    "    filename = x\n",
    "    two_words = filename.split('.')\n",
    "    no_ext = two_words[0]\n",
    "    complete = os.path.join(mypath, x)\n",
    "    img = load_img(complete)\n",
    "    x = img_to_array(img)\n",
    "    x = x.reshape((1,) + x.shape)\n",
    "    \n",
    "    i = 0\n",
    "    for batch in datagen1.flow(x, batch_size=1, save_to_dir='preview',\n",
    "                             save_prefix=no_ext, save_format='jpg'):\n",
    "        i += 1\n",
    "        n += 1\n",
    "        if n == nfiles:\n",
    "            break\n",
    "        \n",
    "        if i > 2:\n",
    "            break\n",
    "            \n",
    "    if n == nfiles:\n",
    "        break\n",
    "\n"
   ]
  },
  {
   "cell_type": "code",
   "execution_count": 10,
   "metadata": {},
   "outputs": [
    {
     "name": "stdout",
     "output_type": "stream",
     "text": [
      "Imágenes del primer conjunto aumentado: 2163\n"
     ]
    }
   ],
   "source": [
    "dir_preview = 'preview'\n",
    "print('Imágenes del primer conjunto aumentado:',len(os.listdir(dir_preview)))"
   ]
  },
  {
   "cell_type": "markdown",
   "metadata": {},
   "source": [
    "Ahora ya se tienen las 3000 imágenes requeridas: 837 originales reescaladas más 2163 aumentadas."
   ]
  },
  {
   "cell_type": "markdown",
   "metadata": {},
   "source": [
    "Se llaman los directorios ya creados en el notebook anterior."
   ]
  },
  {
   "cell_type": "code",
   "execution_count": 7,
   "metadata": {},
   "outputs": [],
   "source": [
    "# Se llaman los directorios ya creados en el notebook de organización de los datos\n",
    "\n",
    "dataset_resized = 'dataset_resized'\n",
    "train_dir = os.path.join(dataset_resized, 'train')\n",
    "validation_dir = os.path.join(dataset_resized, 'validation')\n",
    "test_dir = os.path.join(dataset_resized, 'test')\n",
    "\n",
    "train_esq_dir = os.path.join(train_dir, '1_esquistocitos')\n",
    "train_noesq_dir = os.path.join(train_dir, '0_no_esquistocitos')\n",
    "\n",
    "validation_esq_dir = os.path.join(validation_dir, '1_esquistocitos')\n",
    "validation_noesq_dir = os.path.join(validation_dir, '0_no_esquistocitos')\n",
    "\n",
    "test_esq_dir = os.path.join(test_dir, '1_esquistocitos')\n",
    "test_noesq_dir = os.path.join(test_dir, '0_no_esquistocitos')"
   ]
  },
  {
   "cell_type": "markdown",
   "metadata": {},
   "source": [
    "Se crea un nuevo directorio de entrenamiento con los dos subdirectorios. Luego, se copian las 837 imágenes originales y las 2163 aumentadas en la carpeta de esquistocitos, y las 3000 imágenes en la otra carpeta."
   ]
  },
  {
   "cell_type": "code",
   "execution_count": 8,
   "metadata": {},
   "outputs": [],
   "source": [
    "# Creando carpeta de train 2 con las imágenes originales y las augmentadas\n",
    "\n",
    "# Directory for the training2 split\n",
    "train_dir_2 = os.path.join(dataset_resized, 'train2')\n",
    "os.mkdir(train_dir_2)\n",
    "\n",
    "# Directory with training2 esquistocitos/no_esquistocitos pictures\n",
    "train_esq_dir_2 = os.path.join(train_dir_2, '1_esquistocitos')\n",
    "os.mkdir(train_esq_dir_2)\n",
    "train_noesq_dir_2 = os.path.join(train_dir_2, '0_no_esquistocitos')\n",
    "os.mkdir(train_noesq_dir_2)"
   ]
  },
  {
   "cell_type": "code",
   "execution_count": 100,
   "metadata": {},
   "outputs": [],
   "source": [
    "# Copying esquistocitos pictures to directory\n",
    "original_dataset_res_esq = 'RBC_recort_reesc/ESQUISTOS'\n",
    "pict_res_esq = len(os.listdir(original_dataset_res_esq))\n",
    "\n",
    "for i in range (pict_res_esq):\n",
    "    if i < 837:\n",
    "        source = os.path.join(original_dataset_res_esq, (os.listdir(original_dataset_res_esq))[i])\n",
    "        destination = os.path.join(train_esq_dir_2, (os.listdir(original_dataset_res_esq))[i])\n",
    "        shutil.copyfile(source, destination)\n",
    "\n",
    "# Copying esquistocitos augmented pictures to directory\n",
    "dir_preview = 'preview'\n",
    "pict_augmented = len(os.listdir(dir_preview))\n",
    "for i in range (pict_augmented):\n",
    "    source = os.path.join(dir_preview, (os.listdir(dir_preview))[i])\n",
    "    destination = os.path.join(train_esq_dir_2, (os.listdir(dir_preview))[i])\n",
    "    shutil.copyfile(source, destination)\n",
    "\n",
    "# Copying no esquistocitos pictures in directories\n",
    "original_dataset_res_noesq = 'RBC_recort_reesc/NORM'\n",
    "pict_res_noesq = len(os.listdir(original_dataset_res_noesq))\n",
    "\n",
    "for i in range (pict_res_noesq):\n",
    "    if i < 3000:\n",
    "        source = os.path.join(original_dataset_res_noesq, (os.listdir(original_dataset_res_noesq))[i])\n",
    "        destination = os.path.join(train_noesq_dir_2, (os.listdir(original_dataset_res_noesq))[i])\n",
    "        shutil.copyfile(source, destination)"
   ]
  },
  {
   "cell_type": "code",
   "execution_count": 11,
   "metadata": {},
   "outputs": [
    {
     "name": "stdout",
     "output_type": "stream",
     "text": [
      "Imágenes de esquistocitos para training2: 3000\n",
      "Imágenes de no esquistocitos para training2: 3000\n",
      "Imágenes de esquistocitos para validation: 200\n",
      "Imágenes de no esquistocitos para validation: 200\n",
      "Imágenes de esquistocitos para testing: 700\n",
      "Imágenes de no esquistocitos para testing: 700\n"
     ]
    }
   ],
   "source": [
    "# Contar cuántas imágenes hay en cada directorio después del aumentado\n",
    "print ('Imágenes de esquistocitos para training2:', len(os.listdir(train_esq_dir_2)))\n",
    "print ('Imágenes de no esquistocitos para training2:', len(os.listdir(train_noesq_dir_2)))\n",
    "\n",
    "print ('Imágenes de esquistocitos para validation:', len(os.listdir(validation_esq_dir)))\n",
    "print ('Imágenes de no esquistocitos para validation:', len(os.listdir(validation_noesq_dir)))\n",
    "\n",
    "print ('Imágenes de esquistocitos para testing:', len(os.listdir(test_esq_dir)))\n",
    "print ('Imágenes de no esquistocitos para testing:', len(os.listdir(test_noesq_dir)))\n"
   ]
  },
  {
   "cell_type": "markdown",
   "metadata": {},
   "source": [
    "Después del balanceo de datos, el número de imágenes de cada directorio está equilibrado:\n",
    "- 6000 para training\n",
    "- 400 para validación\n",
    "- 1400 para testing"
   ]
  },
  {
   "cell_type": "code",
   "execution_count": null,
   "metadata": {},
   "outputs": [],
   "source": []
  }
 ],
 "metadata": {
  "kernelspec": {
   "display_name": "Python 3",
   "language": "python",
   "name": "python3"
  },
  "language_info": {
   "codemirror_mode": {
    "name": "ipython",
    "version": 3
   },
   "file_extension": ".py",
   "mimetype": "text/x-python",
   "name": "python",
   "nbconvert_exporter": "python",
   "pygments_lexer": "ipython3",
   "version": "3.8.5"
  }
 },
 "nbformat": 4,
 "nbformat_minor": 2
}

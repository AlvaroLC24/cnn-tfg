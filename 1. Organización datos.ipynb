{
 "cells": [
  {
   "cell_type": "markdown",
   "metadata": {},
   "source": [
    "# CNN desde cero\n",
    "### Organización de los datos"
   ]
  },
  {
   "cell_type": "markdown",
   "metadata": {},
   "source": [
    "La creación de una red neuronal desde cero está dividida en tres notebooks:\n",
    "\n",
    "- Organización de los datos\n",
    "- Balanceo de los datos\n",
    "- Creación del modelo\n",
    "\n",
    "Este primero tiene como objetivo la creación de varios directorios que separarán las imágenes en training, validation y testing. Todas ellas deberán haber sido antes reescaladas a un tamaño reducido para evitar un coste computacional mayor durante el entramiento de la red neuronal convolucional (CNN)."
   ]
  },
  {
   "cell_type": "markdown",
   "metadata": {},
   "source": [
    "Para empezar se importan algunas librerías necesarias no solo para este notebook, sino para los otros dos también."
   ]
  },
  {
   "cell_type": "code",
   "execution_count": 1,
   "metadata": {},
   "outputs": [],
   "source": [
    "from tensorflow.keras.models import Sequential\n",
    "from tensorflow.keras.layers import Dense, Dropout, Activation, Flatten\n",
    "from tensorflow.keras.layers import Conv2D, MaxPooling2D\n",
    "from tensorflow.keras.preprocessing import image\n",
    "from tensorflow.keras.preprocessing.image import ImageDataGenerator\n",
    "from tensorflow.keras.callbacks import TensorBoard, ModelCheckpoint\n",
    "from tensorflow.keras.models import Model, model_from_json\n",
    "from tensorflow.keras import backend\n",
    "\n",
    "import numpy as np\n",
    "from numpy.random import seed\n",
    "import matplotlib.pyplot as plt\n",
    "import tensorflow as tf\n",
    "import time\n",
    "import os\n",
    "import shutil"
   ]
  },
  {
   "cell_type": "markdown",
   "metadata": {},
   "source": [
    "Se llama al directorio que contiene las imágenes originales y se crea uno nuevo con sus dos dubdirectorios para copiarlas. El objetivo de esto es realizar el escalado en este nuevo directorio para no modificar el directorio original por si surge algún problema y se requieren de las imágenes originales."
   ]
  },
  {
   "cell_type": "code",
   "execution_count": 2,
   "metadata": {},
   "outputs": [],
   "source": [
    "original_dataset_dir ='RBC_recortados'\n",
    "\n",
    "base_dir = 'RBC_recort_reesc'\n",
    "os.mkdir(base_dir)"
   ]
  },
  {
   "cell_type": "code",
   "execution_count": 3,
   "metadata": {},
   "outputs": [],
   "source": [
    "esq_dir_resc = os.path.join(base_dir, 'ESQUISTOS')\n",
    "os.mkdir(esq_dir_resc)\n",
    "noesq_dir_resc = os.path.join(base_dir, 'NORM')\n",
    "os.mkdir(noesq_dir_resc)"
   ]
  },
  {
   "cell_type": "code",
   "execution_count": 4,
   "metadata": {},
   "outputs": [
    {
     "name": "stdout",
     "output_type": "stream",
     "text": [
      "Hay 1737 imágenes originales de esquistocitos\n",
      "Hay 10119 imágenes originales de no esquistocitos\n"
     ]
    }
   ],
   "source": [
    "original_dataset_dir_esq = 'RBC_recortados/ESQUISTOS'\n",
    "pict_dir_esq = len(os.listdir(original_dataset_dir_esq))\n",
    "print('Hay {} imágenes originales de esquistocitos'.format(pict_dir_esq))\n",
    "\n",
    "original_dataset_dir_noesq = 'RBC_recortados/NORM'\n",
    "pict_dir_noesq = len(os.listdir(original_dataset_dir_noesq))\n",
    "print('Hay {} imágenes originales de no esquistocitos'.format(pict_dir_noesq))"
   ]
  },
  {
   "cell_type": "markdown",
   "metadata": {},
   "source": [
    "Se han contado las imágenes originales disponibles: 1737 de esquistocitos y 10119 de no esquistocitos. Existe un desbalanceo de clases y, para equilibrarlas, se realizará en el siguiente notebook un balanceo híbrido (augmento de esquistocitos, disminución de no esquistocitos). Por tanto, las 1737 se copian, en cambio, del segundo grupo únicamente se usarán 3900."
   ]
  },
  {
   "cell_type": "code",
   "execution_count": 5,
   "metadata": {},
   "outputs": [
    {
     "name": "stdout",
     "output_type": "stream",
     "text": [
      "0 imágenes de esquistocitos no se usarán\n"
     ]
    }
   ],
   "source": [
    "# Copying esquistocitos pictures to directory\n",
    "esq_no_copy = []\n",
    "\n",
    "for i in range (pict_dir_esq):\n",
    "    if i < 1737:\n",
    "        source = os.path.join(original_dataset_dir_esq, (os.listdir(original_dataset_dir_esq))[i])\n",
    "        destination = os.path.join(esq_dir_resc, (os.listdir(original_dataset_dir_esq))[i])\n",
    "        shutil.copyfile(source, destination)\n",
    "    else:\n",
    "        esq_no_copy.append(i)\n",
    "        \n",
    "print ('{} imágenes de esquistocitos no se usarán'.format(len(esq_no_copy)))"
   ]
  },
  {
   "cell_type": "code",
   "execution_count": 6,
   "metadata": {},
   "outputs": [
    {
     "name": "stdout",
     "output_type": "stream",
     "text": [
      "6219 imágenes de no esquistocitos no se usarán\n"
     ]
    }
   ],
   "source": [
    "# Copying no esquistocitos pictures in directory\n",
    "noesq_no_copy = []\n",
    "\n",
    "for i in range (pict_dir_noesq):\n",
    "    if i < 3900:\n",
    "        source = os.path.join(original_dataset_dir_noesq, (os.listdir(original_dataset_dir_noesq))[i])\n",
    "        destination = os.path.join(noesq_dir_resc, (os.listdir(original_dataset_dir_noesq))[i])\n",
    "        shutil.copyfile(source, destination)\n",
    "    else:\n",
    "        noesq_no_copy.append(i)\n",
    "        \n",
    "print ('{} imágenes de no esquistocitos no se usarán'.format(len(noesq_no_copy)))"
   ]
  },
  {
   "cell_type": "markdown",
   "metadata": {},
   "source": [
    "Después de copiar las imágenes a usar, se reescalan."
   ]
  },
  {
   "cell_type": "code",
   "execution_count": 7,
   "metadata": {},
   "outputs": [],
   "source": [
    "from PIL import Image\n",
    "from skimage.transform import rescale, resize\n",
    "\n",
    "# Resized of esquistocitos pictures\n",
    "esq_dir_resc = 'RBC_recort_reesc/ESQUISTOS'\n",
    "\n",
    "for i in os.listdir(esq_dir_resc):\n",
    "    path_img = esq_dir_resc+\"/\"+i\n",
    "    img = Image.open(path_img)\n",
    "    img = img.resize((220,220))\n",
    "    img.save(path_img)"
   ]
  },
  {
   "cell_type": "code",
   "execution_count": 8,
   "metadata": {},
   "outputs": [],
   "source": [
    "# Resized of no esquistocitos pictures\n",
    "noesq_dir_resc = 'RBC_recort_reesc/NORM'\n",
    "\n",
    "for i in os.listdir(noesq_dir_resc):\n",
    "    path_img = noesq_dir_resc+\"/\"+i\n",
    "    img = Image.open(path_img)\n",
    "    img = img.resize((220,220))\n",
    "    img.save(path_img)"
   ]
  },
  {
   "cell_type": "markdown",
   "metadata": {},
   "source": [
    "A continuación se crea un nuevo directorio \"dataset_resized\" donde se incluirán tres subdirectorios: \"train\", \"validation\" y \"test\". En cada uno de ellos dos más: \"1_esquistocitos\" con las imágenes de esquistocitos y \"0_no_esquistocitos\" con los demás eritrocitos."
   ]
  },
  {
   "cell_type": "code",
   "execution_count": 9,
   "metadata": {},
   "outputs": [],
   "source": [
    "base_dir = 'RBC_recort_reesc'\n",
    "dataset_resized = 'dataset_resized'\n",
    "os.mkdir(dataset_resized)"
   ]
  },
  {
   "cell_type": "code",
   "execution_count": 16,
   "metadata": {},
   "outputs": [],
   "source": [
    "# Directories for the training, validation, and test splits\n",
    "train_dir = os.path.join(dataset_resized, 'train')\n",
    "os.mkdir(train_dir)\n",
    "validation_dir = os.path.join(dataset_resized, 'validation')\n",
    "os.mkdir(validation_dir)\n",
    "test_dir = os.path.join(dataset_resized, 'test')\n",
    "os.mkdir(test_dir)"
   ]
  },
  {
   "cell_type": "code",
   "execution_count": 17,
   "metadata": {},
   "outputs": [],
   "source": [
    "# Directories with esquistocitos/no_esquistocitos pictures\n",
    "\n",
    "# Directory with training esquistocitos/no_esquistocitos pictures\n",
    "train_esq_dir = os.path.join(train_dir, '1_esquistocitos')\n",
    "os.mkdir(train_esq_dir)\n",
    "train_noesq_dir = os.path.join(train_dir, '0_no_esquistocitos')\n",
    "os.mkdir(train_noesq_dir)\n",
    "\n",
    "# Directory with validation esquistocitos/no_esquistocitos pictures\n",
    "validation_esq_dir = os.path.join(validation_dir, '1_esquistocitos')\n",
    "os.mkdir(validation_esq_dir)\n",
    "validation_noesq_dir = os.path.join(validation_dir, '0_no_esquistocitos')\n",
    "os.mkdir(validation_noesq_dir)\n",
    "\n",
    "# Directory with testing esquistocitos/no_esquistocitos pictures\n",
    "test_esq_dir = os.path.join(test_dir, '1_esquistocitos')\n",
    "os.mkdir(test_esq_dir)\n",
    "test_noesq_dir = os.path.join(test_dir, '0_no_esquistocitos')\n",
    "os.mkdir(test_noesq_dir)"
   ]
  },
  {
   "cell_type": "code",
   "execution_count": 18,
   "metadata": {},
   "outputs": [
    {
     "name": "stdout",
     "output_type": "stream",
     "text": [
      "Hay 1737 imágenes originales de esquistocitos\n",
      "Hay 3900 imágenes originales de no esquistocitos\n"
     ]
    }
   ],
   "source": [
    "original_dataset_res_esq = 'RBC_recort_reesc/ESQUISTOS'\n",
    "pict_res_esq = len(os.listdir(original_dataset_res_esq))\n",
    "print('Hay {} imágenes originales de esquistocitos'.format(pict_res_esq))\n",
    "\n",
    "original_dataset_res_noesq = 'RBC_recort_reesc/NORM'\n",
    "pict_res_noesq = len(os.listdir(original_dataset_res_noesq))\n",
    "print('Hay {} imágenes originales de no esquistocitos'.format(pict_res_noesq))"
   ]
  },
  {
   "cell_type": "markdown",
   "metadata": {},
   "source": [
    "Se copian las imágenes en las carpetas correspondientes y se cuentan cuántas hay en cada una."
   ]
  },
  {
   "cell_type": "code",
   "execution_count": 19,
   "metadata": {},
   "outputs": [],
   "source": [
    "# Copying esquistocitos pictures to directories\n",
    "\n",
    "for i in range (pict_res_esq):\n",
    "    if i < 837:\n",
    "        source = os.path.join(original_dataset_res_esq, (os.listdir(original_dataset_res_esq))[i])\n",
    "        destination = os.path.join(train_esq_dir, (os.listdir(original_dataset_res_esq))[i])\n",
    "        shutil.copyfile(source, destination)\n",
    "    elif 837 <= i < 1037:\n",
    "        source = os.path.join(original_dataset_res_esq, (os.listdir(original_dataset_res_esq))[i])\n",
    "        destination = os.path.join(validation_esq_dir, (os.listdir(original_dataset_res_esq))[i])\n",
    "        shutil.copyfile(source, destination)\n",
    "    else:\n",
    "        source = os.path.join(original_dataset_res_esq, (os.listdir(original_dataset_res_esq))[i])\n",
    "        destination = os.path.join(test_esq_dir, (os.listdir(original_dataset_res_esq))[i])\n",
    "        shutil.copyfile(source, destination)\n",
    "        "
   ]
  },
  {
   "cell_type": "code",
   "execution_count": 20,
   "metadata": {},
   "outputs": [],
   "source": [
    "# Copying no esquistocitos pictures in directories\n",
    "\n",
    "for i in range (pict_res_noesq):\n",
    "    if i < 3000:\n",
    "        source = os.path.join(original_dataset_res_noesq, (os.listdir(original_dataset_res_noesq))[i])\n",
    "        destination = os.path.join(train_noesq_dir, (os.listdir(original_dataset_res_noesq))[i])\n",
    "        shutil.copyfile(source, destination)\n",
    "    elif 3000 <= i < 3200:\n",
    "        source = os.path.join(original_dataset_res_noesq, (os.listdir(original_dataset_res_noesq))[i])\n",
    "        destination = os.path.join(validation_noesq_dir, (os.listdir(original_dataset_res_noesq))[i])\n",
    "        shutil.copyfile(source, destination)\n",
    "    else:\n",
    "        source = os.path.join(original_dataset_res_noesq, (os.listdir(original_dataset_res_noesq))[i])\n",
    "        destination = os.path.join(test_noesq_dir, (os.listdir(original_dataset_res_noesq))[i])\n",
    "        shutil.copyfile(source, destination)\n",
    "        "
   ]
  },
  {
   "cell_type": "code",
   "execution_count": 21,
   "metadata": {},
   "outputs": [
    {
     "name": "stdout",
     "output_type": "stream",
     "text": [
      "Imágenes actuales de esquistocitos para training: 837\n",
      "Imágenes actuales de no esquistocitos para training: 3000\n",
      "Imágenes actuales de esquistocitos para validation: 200\n",
      "Imágenes actuales de no esquistocitos para validation: 200\n",
      "Imágenes actuales de esquistocitos para testing: 700\n",
      "Imágenes actuales de no esquistocitos para testing: 700\n"
     ]
    }
   ],
   "source": [
    "# Contar cuántas imágenes hay en cada directorio\n",
    "print ('Imágenes actuales de esquistocitos para training:', len(os.listdir(train_esq_dir)))\n",
    "print ('Imágenes actuales de no esquistocitos para training:', len(os.listdir(train_noesq_dir)))\n",
    "\n",
    "print ('Imágenes actuales de esquistocitos para validation:', len(os.listdir(validation_esq_dir)))\n",
    "print ('Imágenes actuales de no esquistocitos para validation:', len(os.listdir(validation_noesq_dir)))\n",
    "\n",
    "print ('Imágenes actuales de esquistocitos para testing:', len(os.listdir(test_esq_dir)))\n",
    "print ('Imágenes actuales de no esquistocitos para testing:', len(os.listdir(test_noesq_dir)))\n"
   ]
  },
  {
   "cell_type": "markdown",
   "metadata": {},
   "source": [
    "Como se observa hay 200 para cada clase de validación y 700 para cada clase de test. Sin embargo para el entrenamiento hay 837 imágenes de esquistocitos y 3000 de no esquistocitos.\n",
    "\n",
    "En el siguiente notebook se aumentarán las 837 a 3000 mediance un balanceo de datos."
   ]
  },
  {
   "cell_type": "code",
   "execution_count": null,
   "metadata": {},
   "outputs": [],
   "source": []
  }
 ],
 "metadata": {
  "kernelspec": {
   "display_name": "Python 3",
   "language": "python",
   "name": "python3"
  },
  "language_info": {
   "codemirror_mode": {
    "name": "ipython",
    "version": 3
   },
   "file_extension": ".py",
   "mimetype": "text/x-python",
   "name": "python",
   "nbconvert_exporter": "python",
   "pygments_lexer": "ipython3",
   "version": "3.6.9"
  }
 },
 "nbformat": 4,
 "nbformat_minor": 2
}
